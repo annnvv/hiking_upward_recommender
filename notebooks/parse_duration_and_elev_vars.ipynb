{
 "cells": [
  {
   "cell_type": "code",
   "execution_count": 1,
   "id": "dcb62ae2",
   "metadata": {},
   "outputs": [],
   "source": [
    "import pandas as pd\n",
    "import numpy as np\n",
    "pd.set_option(\"display.max_rows\", 250)"
   ]
  },
  {
   "cell_type": "code",
   "execution_count": 2,
   "id": "818eb1e4",
   "metadata": {},
   "outputs": [],
   "source": [
    "hike_df = pd.read_csv(\"../app/data/hiking_upward_data.csv\")"
   ]
  },
  {
   "cell_type": "code",
   "execution_count": 3,
   "id": "3dc7a478-98cf-4436-8423-9e990ae960e6",
   "metadata": {},
   "outputs": [],
   "source": [
    "hike_df['hiking_duration_str2'] = hike_df.hiking_duration_str"
   ]
  },
  {
   "cell_type": "code",
   "execution_count": 4,
   "id": "7ef66aa7-206e-4c5c-be5e-3ab5875100e7",
   "metadata": {},
   "outputs": [
    {
     "data": {
      "text/plain": [
       "160                   4.0 hours with 1/2 hour for breaks\n",
       "52     4.0 hours\\r\\n                      plus a half...\n",
       "50                         2 Day Backpack, 8 Hours Total\n",
       "332                   3 hours with 45  minutes of breaks\n",
       "226                      1.5 hrs with 1.0 hrs for breaks\n",
       "321                   3.5 hrs plus a half hour for lunch\n",
       "127                                 4 hours with  breaks\n",
       "37     4 hours plus a half hour \\r\\n                 ...\n",
       "213    3 hours and 15  minutes with 50 minutes of breaks\n",
       "237      9.0 hours \\r\\n                      over 2 days\n",
       "Name: hiking_duration_str2, dtype: object"
      ]
     },
     "execution_count": 4,
     "metadata": {},
     "output_type": "execute_result"
    }
   ],
   "source": [
    "hike_df['hiking_duration_str2'].sample(10)"
   ]
  },
  {
   "cell_type": "code",
   "execution_count": 5,
   "id": "94148b07-819e-4866-aec1-32963218e871",
   "metadata": {},
   "outputs": [],
   "source": [
    "hike_df.hiking_duration_str2 = hike_df.hiking_duration_str2.replace(np.nan, '')"
   ]
  },
  {
   "cell_type": "code",
   "execution_count": 6,
   "id": "6af9ad6c-ddbc-4f0a-8936-04308f0db137",
   "metadata": {},
   "outputs": [],
   "source": [
    "#get rid of html stuff\n",
    "hike_df.hiking_duration_str2 = hike_df.hiking_duration_str2.str.replace(r\"\\r\\n\", '', regex=True)\n",
    "hike_df.hiking_duration_str2 = hike_df.hiking_duration_str2.str.replace(r\"\\n\", '', regex=True)"
   ]
  },
  {
   "cell_type": "code",
   "execution_count": 7,
   "id": "ad96857e-d885-4b86-90b3-4db5efaa10c4",
   "metadata": {},
   "outputs": [],
   "source": [
    "#replace empty white space!\n",
    "hike_df.hiking_duration_str2 = hike_df.hiking_duration_str2.str.replace(\"    \", \" \")\n",
    "hike_df.hiking_duration_str2 = hike_df.hiking_duration_str2.str.replace(\"   \", \" \")\n",
    "hike_df.hiking_duration_str2 = hike_df.hiking_duration_str2.str.replace(\"  \", \" \")\n",
    "hike_df.hiking_duration_str2 = hike_df.hiking_duration_str2.str.replace(\"  \", \" \")"
   ]
  },
  {
   "cell_type": "code",
   "execution_count": 8,
   "id": "c92fd3d2-7be9-4fd7-a370-4e03c60a5495",
   "metadata": {},
   "outputs": [],
   "source": [
    "hike_df.hiking_duration_str2 = hike_df.hiking_duration_str2.str.strip()"
   ]
  },
  {
   "cell_type": "code",
   "execution_count": 9,
   "id": "d300e5da-b152-4e88-ae4a-795371706917",
   "metadata": {},
   "outputs": [],
   "source": [
    "hike_df.hiking_duration_str2 = hike_df.hiking_duration_str2.str.replace('1st', 'first')"
   ]
  },
  {
   "cell_type": "code",
   "execution_count": 10,
   "id": "b356c599-06ef-4be1-a12b-73b4ff27098d",
   "metadata": {},
   "outputs": [],
   "source": [
    "hike_df.hiking_duration_str2 = hike_df.hiking_duration_str2.str.replace('2nd', 'second')"
   ]
  },
  {
   "cell_type": "code",
   "execution_count": 11,
   "id": "5575df80",
   "metadata": {},
   "outputs": [],
   "source": [
    "hike_df.hiking_duration_str2 = hike_df.hiking_duration_str2.str.replace('hr', 'hour')\n",
    "hike_df.hiking_duration_str2 = hike_df.hiking_duration_str2.str.replace('hrs', 'hours')"
   ]
  },
  {
   "cell_type": "code",
   "execution_count": null,
   "id": "10bb349d-9b72-4f22-9144-eb1b35dc1fdf",
   "metadata": {},
   "outputs": [],
   "source": []
  },
  {
   "cell_type": "markdown",
   "id": "27cad59f-0f8a-48aa-85e1-3672900872e0",
   "metadata": {},
   "source": [
    "## parse days"
   ]
  },
  {
   "cell_type": "code",
   "execution_count": 12,
   "id": "e8e2c336",
   "metadata": {},
   "outputs": [],
   "source": [
    "\n",
    "hike_df['hiking_duration_days'] = hike_df.hiking_duration_str2"
   ]
  },
  {
   "cell_type": "code",
   "execution_count": 13,
   "id": "3c12084b-9ecb-47cd-9017-5cb600f506fe",
   "metadata": {},
   "outputs": [],
   "source": [
    "hike_df['hiking_duration_days'] = np.where(hike_df['hiking_duration_days'].str.contains('hour', case = False) | hike_df['hiking_duration_days'].str.contains('minutes', case = False), '', hike_df['hiking_duration_days'])"
   ]
  },
  {
   "cell_type": "code",
   "execution_count": 14,
   "id": "30dcd14f-f2ed-4511-a35c-71fcd5638210",
   "metadata": {},
   "outputs": [
    {
     "data": {
      "text/plain": [
       "                                                              390\n",
       "2.5 Days                                                        2\n",
       "2 day backpack                                                  2\n",
       "Lower Catawba Falls and Catawba Falls                           1\n",
       "Including Upper Mingo Falls                                     1\n",
       "Mingo Falls                                                     1\n",
       "Blackrock Mountain and The Pinnacle                             1\n",
       "Blackrock Mountain                                              1\n",
       "Woods Mountan Trail                                             1\n",
       "Armstrong Creek View                                            1\n",
       "Little Snowball Lookout Tower                                   1\n",
       "Hawkbill Rock                                                   1\n",
       "Carver’s Gap to Hump Mountain                                   1\n",
       "Carver’s Gap to Grassy Ridge Bald                               1\n",
       "Combined Hikes                                                  1\n",
       "Upper Catawba Falls                                             1\n",
       "West Prong Hickey Fork Falls                                    1\n",
       "Camp Creek Bald, Blackstack Cliffs, and Big Firescald Knob      1\n",
       "2 Day Point-to-Point Shuttle Hike                               1\n",
       "2-3 days of backpacking                                         1\n",
       "2 or 3 days                                                     1\n",
       "3 Days                                                          1\n",
       "Mount LeConte                                                   1\n",
       "Alum Cave Bluffs                                                1\n",
       "Gooseberry Knob at The Swag                                     1\n",
       "Hemphill Bald                                                   1\n",
       "2 Day Backpack                                                  1\n",
       "2 Days                                                          1\n",
       "Scothorn Gap Loop                                               1\n",
       "Gap Creek - Out/Back                                            1\n",
       "Fallingwater Cascades/Flat Top Mountain                         1\n",
       "Name: hiking_duration_days, dtype: int64"
      ]
     },
     "execution_count": 14,
     "metadata": {},
     "output_type": "execute_result"
    }
   ],
   "source": [
    "hike_df.hiking_duration_days.value_counts()"
   ]
  },
  {
   "cell_type": "code",
   "execution_count": 15,
   "id": "b4e9c65c-7a5f-4c6a-8395-45afb8435524",
   "metadata": {},
   "outputs": [],
   "source": [
    "# hike_df.hiking_duration_days = hike_df.hiking_duration_days.str.strip()"
   ]
  },
  {
   "cell_type": "code",
   "execution_count": 16,
   "id": "1246da47-30f8-4b6d-ac81-a04a5dfd1280",
   "metadata": {},
   "outputs": [],
   "source": [
    "hike_df.hiking_duration_days = hike_df.hiking_duration_days.str.replace(' backpack', '', case = False)"
   ]
  },
  {
   "cell_type": "code",
   "execution_count": 17,
   "id": "86b94d95-5f0d-4dea-af42-29735a0b433e",
   "metadata": {},
   "outputs": [],
   "source": [
    "hike_df.hiking_duration_days = hike_df.hiking_duration_days.str.replace('day', 'Day', case = True)\n",
    "hike_df.hiking_duration_days = hike_df.hiking_duration_days.str.replace('days', 'Days', case = True)"
   ]
  },
  {
   "cell_type": "code",
   "execution_count": 18,
   "id": "ebf5d6cf-a35a-47f1-acd5-76df3572056c",
   "metadata": {},
   "outputs": [],
   "source": [
    "hike_df.hiking_duration_days = hike_df.hiking_duration_days.str.replace('2 or 3 Days', '2.5 Days')\n",
    "hike_df.hiking_duration_days = hike_df.hiking_duration_days.str.replace('2-3 Days ofing', '2.5 Days')"
   ]
  },
  {
   "cell_type": "code",
   "execution_count": 19,
   "id": "b4c54f45-ae06-4631-8e7a-87056212ed96",
   "metadata": {},
   "outputs": [],
   "source": [
    "hike_df.hiking_duration_days = hike_df.hiking_duration_days.str.replace(' Point-to-Point Shuttle Hike', '', case = False)"
   ]
  },
  {
   "cell_type": "code",
   "execution_count": 20,
   "id": "aca44210-9b93-4b9b-8aef-ee60bb003ebd",
   "metadata": {},
   "outputs": [],
   "source": [
    "hike_df.hiking_duration_days = hike_df.hiking_duration_days.str.replace('Day$', 'Days', regex = True)"
   ]
  },
  {
   "cell_type": "code",
   "execution_count": 21,
   "id": "73e64ebe-8810-4f28-a9bf-39d66fb106f4",
   "metadata": {},
   "outputs": [
    {
     "data": {
      "text/plain": [
       "                                                              390\n",
       "2 Days                                                          5\n",
       "2.5 Days                                                        4\n",
       "Combined Hikes                                                  1\n",
       "Including Upper Mingo Falls                                     1\n",
       "Mingo Falls                                                     1\n",
       "Blackrock Mountain and The Pinnacle                             1\n",
       "Blackrock Mountain                                              1\n",
       "Woods Mountan Trail                                             1\n",
       "Armstrong Creek View                                            1\n",
       "Little Snowball Lookout Tower                                   1\n",
       "Hawkbill Rock                                                   1\n",
       "Carver’s Gap to Hump Mountain                                   1\n",
       "Carver’s Gap to Grassy Ridge Bald                               1\n",
       "Upper Catawba Falls                                             1\n",
       "Lower Catawba Falls and Catawba Falls                           1\n",
       "Camp Creek Bald, Blackstack Cliffs, and Big Firescald Knob      1\n",
       "West Prong Hickey Fork Falls                                    1\n",
       "3 Days                                                          1\n",
       "Mount LeConte                                                   1\n",
       "Alum Cave Bluffs                                                1\n",
       "Gooseberry Knob at The Swag                                     1\n",
       "Hemphill Bald                                                   1\n",
       "Scothorn Gap Loop                                               1\n",
       "Gap Creek - Out/Back                                            1\n",
       "Fallingwater Cascades/Flat Top Mountain                         1\n",
       "Name: hiking_duration_days, dtype: int64"
      ]
     },
     "execution_count": 21,
     "metadata": {},
     "output_type": "execute_result"
    }
   ],
   "source": [
    "hike_df.hiking_duration_days.value_counts()"
   ]
  },
  {
   "cell_type": "code",
   "execution_count": null,
   "id": "2ad6f997-b606-48fb-9198-0c50a1c6070a",
   "metadata": {},
   "outputs": [],
   "source": []
  },
  {
   "cell_type": "markdown",
   "id": "3dd2cab4-7a14-418c-a6f2-4c439c623b9a",
   "metadata": {},
   "source": [
    "## parse hour"
   ]
  },
  {
   "cell_type": "code",
   "execution_count": 66,
   "id": "d912720e-d613-4c52-bdb7-5a19fe625847",
   "metadata": {},
   "outputs": [],
   "source": [
    "hike_df['hiking_duration_hours'] = hike_df.hiking_duration_str2"
   ]
  },
  {
   "cell_type": "code",
   "execution_count": 67,
   "id": "10c9e7ae-0c28-4745-af37-ce455b01546f",
   "metadata": {},
   "outputs": [],
   "source": [
    "hike_df['hiking_duration_hours'] = np.where(hike_df['hiking_duration_hours'].str.contains('day', case = False), '', hike_df['hiking_duration_hours'])"
   ]
  },
  {
   "cell_type": "code",
   "execution_count": 87,
   "id": "e5f3dfb8-7ea7-4bbc-bbab-e9687cc7faf4",
   "metadata": {},
   "outputs": [
    {
     "data": {
      "text/plain": [
       "5.5 hours                                                                                                                                                                       23\n",
       "7.0 hours                                                                                                                                                                        5\n",
       "4.5 hours                                                                                                                                                                       31\n",
       "4 hours                                                                                                                                                                         11\n",
       "3.5 hours                                                                                                                                                                       26\n",
       "2.0 hours                                                                                                                                                                        9\n",
       "6.5 hours                                                                                                                                                                        1\n",
       "4.0 hours                                                                                                                                                                       14\n",
       "1.5 hours                                                                                                                                                                        3\n",
       "1 hour, including viewing time from the rocks                                                                                                                                    1\n",
       "8.0 hours                                                                                                                                                                        1\n",
       "3.0 hours                                                                                                                                                                       19\n",
       "6.0 hours plus 1hour for lunch and breaks                                                                                                                                        1\n",
       "3.5 hours plus half hour for lunch                                                                                                                                               1\n",
       "                                                                                                                                                                                38\n",
       "Gap Creek - Out/Back                                                                                                                                                             1\n",
       "Scothorn Gap Loop                                                                                                                                                                1\n",
       "6.0 hours                                                                                                                                                                        8\n",
       "4.0 hours including 30 minutes of breaks                                                                                                                                         2\n",
       "6.5 hours                                                                                                                                                                        7\n",
       "2.0 hours                                                                                                                                                                        3\n",
       "3 hours                                                                                                                                                                          8\n",
       "2.5 hours                                                                                                                                                                       17\n",
       "1.0 hours                                                                                                                                                                        1\n",
       "5 hours                                                                                                                                                                          5\n",
       "7.5 hours                                                                                                                                                                        4\n",
       "5.5 hours plus a half hour for lunch 2,110 ft                                                                                                                                    1\n",
       "5.0 hours                                                                                                                                                                       10\n",
       "5.5 hours with a break for lunch                                                                                                                                                 1\n",
       "4 hours, including time spent enjoying the glorious views                                                                                                                        1\n",
       "6 hours                                                                                                                                                                          6\n",
       "10.0 hours                                                                                                                                                                       1\n",
       "8 hours                                                                                                                                                                          1\n",
       "4.0 hours                                                                                                                                                                        3\n",
       "9.0 hours                                                                                                                                                                        1\n",
       "6.0 hours                                                                                                                                                                        1\n",
       "2 hours                                                                                                                                                                          1\n",
       "8.5 hours                                                                                                                                                                        2\n",
       "4 hours and 45 minutes                                                                                                                                                           1\n",
       "2 hours and 30 minutes                                                                                                                                                           2\n",
       "Hemphill Bald                                                                                                                                                                    1\n",
       "Gooseberry Knob at The Swag                                                                                                                                                      1\n",
       "3 hours and 30 minutes                                                                                                                                                           6\n",
       "Alum Cave Bluffs                                                                                                                                                                 1\n",
       "Mount LeConte                                                                                                                                                                    1\n",
       "5.5 hours                                                                                                                                                                        1\n",
       "2 hours .                                                                                                                                                                        1\n",
       "4 hours .                                                                                                                                                                        1\n",
       "4 hours                                                                                                                                                                          1\n",
       "5 hours with a stop for lunch at the overlook                                                                                                                                    1\n",
       "7 hours with 1 hours and 40 minutes break time                                                                                                                                   1\n",
       "7 hours                                                                                                                                                                          1\n",
       "6 hours                                                                                                                                                                          1\n",
       "5 hours and 40 minutes with 1 hour and 30 minutes of breaks                                                                                                                      1\n",
       "7.0 hours plus a 1 hour for lunch                                                                                                                                                1\n",
       "3 hours                                                                                                                                                                          1\n",
       "8.0 hours, including a lunch break.                                                                                                                                              1\n",
       "8.0 hours                                                                                                                                                                        1\n",
       "7.5 hours                                                                                                                                                                        1\n",
       "3.5 hours                                                                                                                                                                        2\n",
       "3.0 hours                                                                                                                                                                        1\n",
       "7.0 hours                                                                                                                                                                        1\n",
       "3 hours and 45 minutes                                                                                                                                                           3\n",
       "5 hours and 30 minutes                                                                                                                                                           2\n",
       "30 minutes                                                                                                                                                                       1\n",
       "35 minutes                                                                                                                                                                       1\n",
       "1 hour and 10 minutes                                                                                                                                                            1\n",
       "45 minutes                                                                                                                                                                       6\n",
       "4 hours and 15 minutes                                                                                                                                                           1\n",
       "7 hours with 1 hour and 30 minutes of breaks                                                                                                                                     1\n",
       "2 hours and 40 minutes                                                                                                                                                           1\n",
       "6 hours and 30 minutes with 1 hour and 15 minutes of breaks                                                                                                                      1\n",
       "8 hours and 30 minutes with 2 hours of breaks                                                                                                                                    1\n",
       "West Prong Hickey Fork Falls                                                                                                                                                     1\n",
       "Camp Creek Bald, Blackstack Cliffs, and Big Firescald Knob                                                                                                                       1\n",
       "Lower Catawba Falls and Catawba Falls                                                                                                                                            1\n",
       "Upper Catawba Falls                                                                                                                                                              1\n",
       "1 hour and 20 minutes                                                                                                                                                            1\n",
       "7 hours and 30 minutes with 2 hours and 15 minutes of breaks                                                                                                                     1\n",
       "7 hours and 30 minutes with 2 hours of breaks                                                                                                                                    1\n",
       "1 hour                                                                                                                                                                           1\n",
       "60 minutes                                                                                                                                                                       2\n",
       "7 hours with 1 hour and 45 minutes of breaks                                                                                                                                     2\n",
       "Combined Hikes                                                                                                                                                                   1\n",
       "4 hours and 30 minutes                                                                                                                                                           2\n",
       "30 minutes                                                                                                                                                                       4\n",
       "1 hour and 15 minutes                                                                                                                                                            2\n",
       "1 hour and 45 minutes                                                                                                                                                            1\n",
       "8 hours with 2 hours of breaks                                                                                                                                                   1\n",
       "3 hours and 15 minutes                                                                                                                                                           1\n",
       "7.5 hours plus 1.5 hours of breaks                                                                                                                                               1\n",
       "7 hours and 15 minutes                                                                                                                                                           1\n",
       "Carver’s Gap to Grassy Ridge Bald                                                                                                                                                1\n",
       "Carver’s Gap to Hump Mountain                                                                                                                                                    1\n",
       "8 hours and 30 minutes with 1 hour and 15 minutes of breaks                                                                                                                      1\n",
       "1.0 hours                                                                                                                                                                        2\n",
       "Hawkbill Rock                                                                                                                                                                    1\n",
       "Little Snowball Lookout Tower                                                                                                                                                    1\n",
       "6 hours and 30 minutes with 2 hours of breaks                                                                                                                                    1\n",
       "1.5 hours with 1.0 hours of breaks                                                                                                                                               1\n",
       "Armstrong Creek View                                                                                                                                                             1\n",
       "Woods Mountan Trail                                                                                                                                                              1\n",
       "7 hours and 30 minutes with 1 hour and 30 minutes of breaks                                                                                                                      1\n",
       "6.0 hours, including a stop for lunch along Big Run                                                                                                                              1\n",
       "3 hours with 30 minutes of break                                                                                                                                                 1\n",
       "3.5 hours including 30 minutes of breaks                                                                                                                                         1\n",
       "4.3 hours                                                                                                                                                                        1\n",
       "4.5 hours including 30 minutes of breaks                                                                                                                                         2\n",
       "3.0 hours including 30 minutes of breaks                                                                                                                                         1\n",
       "5.0 hours including 30 minutes of breaks                                                                                                                                         1\n",
       "5 hours and 10 minutes                                                                                                                                                           1\n",
       "6 hours with 1 hour and 15 minutes of breaks                                                                                                                                     1\n",
       "11.5 hours                                                                                                                                                                       1\n",
       "2.5 hours                                                                                                                                                                        3\n",
       "16 - 18 hours                                                                                                                                                                    1\n",
       "45 minutes with 5 minutes of breaks                                                                                                                                              1\n",
       "Combined Hikes 3.5 hours  2,150 ft                                                                                                                                               1\n",
       "Blackrock Mountain                                                                                                                                                               1\n",
       "Blackrock Mountain and The Pinnacle                                                                                                                                              1\n",
       "3 hours 40 minutes with 45 minutes creek exploration                                                                                                                             1\n",
       "2 hours and 40 minutes                                                                                                                                                           1\n",
       "1 hours and 30 minutes                                                                                                                                                           1\n",
       "45 minutes                                                                                                                                                                       3\n",
       "1.5 hours with 10 minute break                                                                                                                                                   1\n",
       "2 hours with 30 minutes of break                                                                                                                                                 1\n",
       "6.0 hours including 1 hour of breaks                                                                                                                                             1\n",
       "2 hours and 15 minutes with 30 minutes of break                                                                                                                                  1\n",
       "1 hour 45 minutes, including 20 minutes of breaks.                                                                                                                               1\n",
       "8.0 hours with 2.0 hours of breaks                                                                                                                                               1\n",
       "8 hours and 40 minutes with 2 hours and 50 minutes of breaks                                                                                                                     1\n",
       "50 minutes                                                                                                                                                                       1\n",
       "4 hours s                                                                                                                                                                        1\n",
       "2 hours and 15 minutes                                                                                                                                                           4\n",
       "5 hours and 15 minutes with 1 hour and 45 minutes of breaks                                                                                                                      1\n",
       "Mingo Falls                                                                                                                                                                      1\n",
       "Including Upper Mingo Falls                                                                                                                                                      1\n",
       "5 hours and 30 minutes with 1 hour and 30 minutes of breaks                                                                                                                      1\n",
       "1.5 hours with a 10 minute break                                                                                                                                                 1\n",
       "3 hours and 30 minutes with 1 hour and 15 minutes of breaks                                                                                                                      1\n",
       "40 minutes                                                                                                                                                                       1\n",
       "5.0 hours with a half hour for lunch                                                                                                                                             1\n",
       "4.5 hours, including a stop for lunch and stops to look at exhibits                                                                                                              1\n",
       "1.5 hours with breaks 310 ft Bears Den Trail Center Topo Hike Trails Map (PDF) Bluemont Weather Forecast Garmin (GDB), Gaia/Trails App (GPX) (What's this?) 3D View of Route     1\n",
       "Fallingwater Cascades/Flat Top Mountain                                                                                                                                          1\n",
       "4.0 hours with time for stops                                                                                                                                                    1\n",
       "3.5 hours plus 30 minutes for lunch                                                                                                                                              3\n",
       "3.0 hours plus 30 minutes for lunch                                                                                                                                              1\n",
       "2 hours and 45 minutes                                                                                                                                                           1\n",
       "4 hours plus breaks 1,530 ft Bears Den Trail Center Topo Hike Trails Map (PDF) Bluemont Weather Forecast Garmin (GDB), Gaia/Trails App (GPX) (What's this?) 3D View of Route     1\n",
       "1.0 hour                                                                                                                                                                         1\n",
       "1.5 hours                                                                                                                                                                        1\n",
       "4.0 hours plus 30 minutes for lunch                                                                                                                                              1\n",
       "2.0 hours. Have lunch at the                                                                                                                                                     1\n",
       "4.5 hours with half for lunch                                                                                                                                                    1\n",
       "1.0 hours plus a 15 min for lunch                                                                                                                                                1\n",
       "1.5 hours plus a 15 min for lunch                                                                                                                                                1\n",
       "5.0 hours                                                                                                                                                                        1\n",
       "Name: hiking_duration_hours, dtype: int64"
      ]
     },
     "execution_count": 87,
     "metadata": {},
     "output_type": "execute_result"
    }
   ],
   "source": [
    "hike_df.hiking_duration_hours.value_counts(dropna = False, sort = False)"
   ]
  },
  {
   "cell_type": "code",
   "execution_count": 88,
   "id": "340aad03-3f97-40f6-b7e7-0cc1233b10cd",
   "metadata": {},
   "outputs": [
    {
     "data": {
      "text/plain": [
       "False    395\n",
       "True      27\n",
       "Name: hiking_duration_hours, dtype: int64"
      ]
     },
     "execution_count": 88,
     "metadata": {},
     "output_type": "execute_result"
    }
   ],
   "source": [
    "hike_df.hiking_duration_hours.str.endswith('hours').value_counts(dropna = False, sort = False)"
   ]
  },
  {
   "cell_type": "code",
   "execution_count": 69,
   "id": "4ea4f50a-a04d-44f2-87b1-e088e35ad2fd",
   "metadata": {},
   "outputs": [],
   "source": [
    "hike_df['hiking_duration_hours'] = hike_df.hiking_duration_hours.str.replace('1/2', 'half')"
   ]
  },
  {
   "cell_type": "code",
   "execution_count": null,
   "id": "e16d5efc-2871-430f-8836-89c528d4e022",
   "metadata": {},
   "outputs": [],
   "source": [
    "hike_df['hiking_duration_hours'] = hike_df.hiking_duration_hours.str.replace(' hour? and 10 minutes', '.167 hours', regex = True)\n",
    "hike_df['hiking_duration_hours'] = hike_df.hiking_duration_hours.str.replace(' hour? and 20 minutes', '.333 hours', regex = True)\n",
    "hike_df['hiking_duration_hours'] = hike_df.hiking_duration_hours.str.replace(' hour? and 15 minutes', '.25 hours', regex = True)\n",
    "hike_df['hiking_duration_hours'] = hike_df.hiking_duration_hours.str.replace(' hour? and 45 minutes', '.75 hours', regex = True)"
   ]
  },
  {
   "cell_type": "code",
   "execution_count": 73,
   "id": "c89447ca-12f5-4621-a08c-772d1fb21e33",
   "metadata": {},
   "outputs": [],
   "source": [
    "# hike_df['hiking_duration_hours'] = hike_df.hiking_duration_hours.str.replace('plus a half hour for lunch$', '', regex = True)\n",
    "# hike_df['hiking_duration_hours'] = hike_df.hiking_duration_hours.str.replace('with half hour for lunch$', '', regex = True)\n",
    "# # with 1/2 hour for lunch \n",
    "# hike_df['hiking_duration_hours'] = hike_df.hiking_duration_hours.str.replace(' with breaks$', '', regex = True)\n",
    "# hike_df['hiking_duration_hours'] = hike_df.hiking_duration_hours.str.replace(', including a lunch break$', '', regex = True)\n",
    "# hike_df['hiking_duration_hours'] = hike_df.hiking_duration_hours.str.replace('for breaks', 'of breaks')\n",
    "# hike_df['hiking_duration_hours'] = hike_df.hiking_duration_hours.str.replace('including breaks$', '', regex = True)\n",
    "# hike_df['hiking_duration_hours'] = hike_df.hiking_duration_hours.str.replace('with half hour of breaks', 'with 30 minutes of breaks')"
   ]
  },
  {
   "cell_type": "code",
   "execution_count": 86,
   "id": "1d4dc3b7-cbd3-4f2a-a667-548b6298ae2a",
   "metadata": {},
   "outputs": [
    {
     "name": "stderr",
     "output_type": "stream",
     "text": [
      "C:\\ProgramData\\Anaconda3\\lib\\site-packages\\ipykernel_launcher.py:4: FutureWarning: The default value of regex will change from True to False in a future version.\n",
      "  after removing the cwd from sys.path.\n"
     ]
    }
   ],
   "source": [
    "# hike_df['hiking_duration_hours'] = hike_df.hiking_duration_hours.str.replace('including time for lunch', '')\n",
    "# hike_df['hiking_duration_hours'] = hike_df.hiking_duration_hours.str.replace('with half hour for lunch', '')\n",
    "# hike_df['hiking_duration_hours'] = hike_df.hiking_duration_hours.str.replace('with 1 hour of breaks', '')\n",
    "# hike_df['hiking_duration_hours'] = hike_df.hiking_duration_hours.str.replace('with 1.5 hours of breaks', '')"
   ]
  },
  {
   "cell_type": "code",
   "execution_count": 74,
   "id": "1ca4e061-9c0a-4e57-85b1-bae704163bc2",
   "metadata": {},
   "outputs": [],
   "source": [
    "# hike_df['hiking_duration_hours'] = hike_df.hiking_duration_hours.str.replace('with \\d\\d minutes of breaks', '', regex = True)"
   ]
  },
  {
   "cell_type": "code",
   "execution_count": null,
   "id": "3e1a3f28-c355-4c19-89ae-99bff19d337e",
   "metadata": {},
   "outputs": [],
   "source": []
  }
 ],
 "metadata": {
  "kernelspec": {
   "display_name": "Python 3 (ipykernel)",
   "language": "python",
   "name": "python3"
  },
  "language_info": {
   "codemirror_mode": {
    "name": "ipython",
    "version": 3
   },
   "file_extension": ".py",
   "mimetype": "text/x-python",
   "name": "python",
   "nbconvert_exporter": "python",
   "pygments_lexer": "ipython3",
   "version": "3.7.11"
  }
 },
 "nbformat": 4,
 "nbformat_minor": 5
}
