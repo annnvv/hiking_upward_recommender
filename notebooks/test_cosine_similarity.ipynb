{
 "cells": [
  {
   "cell_type": "code",
   "execution_count": 1,
   "id": "5aa9df43-eb3b-4e6b-b8f1-1a08d114b9ad",
   "metadata": {},
   "outputs": [],
   "source": [
    "# Based on :https://www.alpha-quantum.com/blog/content-based-recommendation-engine/content-based-recommender-system-with-python/"
   ]
  },
  {
   "cell_type": "code",
   "execution_count": 2,
   "id": "78b561c1-551b-4389-b19b-cc9a33966d01",
   "metadata": {},
   "outputs": [],
   "source": [
    "from sklearn.metrics.pairwise import cosine_similarity\n",
    "import pandas as pd"
   ]
  },
  {
   "cell_type": "code",
   "execution_count": null,
   "id": "de6c69b1-5512-4605-8cb0-65796ae55319",
   "metadata": {},
   "outputs": [],
   "source": []
  },
  {
   "cell_type": "code",
   "execution_count": 3,
   "id": "6f33ed34-662f-4ae2-9f64-365b7ad6f525",
   "metadata": {},
   "outputs": [],
   "source": [
    "df = pd.read_csv(\"../app/data/hiking_upward_data.csv\")"
   ]
  },
  {
   "cell_type": "code",
   "execution_count": 4,
   "id": "8b48c941-19da-405f-8b36-b08241a079eb",
   "metadata": {},
   "outputs": [],
   "source": [
    "df2 = df[[ \"hike_len_in_mi\", \"difficulty_rating\", \"streams_rating\", \"views_rating\", \"solitude_rating\", \"camping_rating\"]] ##keep identifier, plus numeric vars"
   ]
  },
  {
   "cell_type": "code",
   "execution_count": 5,
   "id": "c92aaa7b-746a-4fda-a2f5-d5a0fef230cf",
   "metadata": {},
   "outputs": [
    {
     "data": {
      "text/plain": [
       "(422, 6)"
      ]
     },
     "execution_count": 5,
     "metadata": {},
     "output_type": "execute_result"
    }
   ],
   "source": [
    "df2.shape"
   ]
  },
  {
   "cell_type": "code",
   "execution_count": 23,
   "id": "3ffa8b60-1f4b-471e-b520-32ed97478b9e",
   "metadata": {},
   "outputs": [],
   "source": [
    "df2 = df2.dropna() ##Av.note: IMPORTANT need to drop null values (why are there null values in the first place!)"
   ]
  },
  {
   "cell_type": "code",
   "execution_count": 7,
   "id": "5446fa4d-461f-4b86-adf6-f4faec474824",
   "metadata": {},
   "outputs": [
    {
     "data": {
      "text/plain": [
       "(417, 6)"
      ]
     },
     "execution_count": 7,
     "metadata": {},
     "output_type": "execute_result"
    }
   ],
   "source": [
    "df2.shape"
   ]
  },
  {
   "cell_type": "code",
   "execution_count": 8,
   "id": "7405d6bd-e381-4fb2-a88f-8f01a41c3dfa",
   "metadata": {},
   "outputs": [
    {
     "data": {
      "text/html": [
       "<div>\n",
       "<style scoped>\n",
       "    .dataframe tbody tr th:only-of-type {\n",
       "        vertical-align: middle;\n",
       "    }\n",
       "\n",
       "    .dataframe tbody tr th {\n",
       "        vertical-align: top;\n",
       "    }\n",
       "\n",
       "    .dataframe thead th {\n",
       "        text-align: right;\n",
       "    }\n",
       "</style>\n",
       "<table border=\"1\" class=\"dataframe\">\n",
       "  <thead>\n",
       "    <tr style=\"text-align: right;\">\n",
       "      <th></th>\n",
       "      <th>hike_len_in_mi</th>\n",
       "      <th>difficulty_rating</th>\n",
       "      <th>streams_rating</th>\n",
       "      <th>views_rating</th>\n",
       "      <th>solitude_rating</th>\n",
       "      <th>camping_rating</th>\n",
       "    </tr>\n",
       "  </thead>\n",
       "  <tbody>\n",
       "    <tr>\n",
       "      <th>0</th>\n",
       "      <td>11.5</td>\n",
       "      <td>4.0</td>\n",
       "      <td>3.0</td>\n",
       "      <td>2.0</td>\n",
       "      <td>4.0</td>\n",
       "      <td>3.0</td>\n",
       "    </tr>\n",
       "    <tr>\n",
       "      <th>1</th>\n",
       "      <td>11.9</td>\n",
       "      <td>5.0</td>\n",
       "      <td>0.0</td>\n",
       "      <td>5.0</td>\n",
       "      <td>3.0</td>\n",
       "      <td>3.0</td>\n",
       "    </tr>\n",
       "    <tr>\n",
       "      <th>2</th>\n",
       "      <td>12.3</td>\n",
       "      <td>4.0</td>\n",
       "      <td>3.0</td>\n",
       "      <td>4.0</td>\n",
       "      <td>3.0</td>\n",
       "      <td>3.0</td>\n",
       "    </tr>\n",
       "  </tbody>\n",
       "</table>\n",
       "</div>"
      ],
      "text/plain": [
       "   hike_len_in_mi  difficulty_rating  streams_rating  views_rating  \\\n",
       "0            11.5                4.0             3.0           2.0   \n",
       "1            11.9                5.0             0.0           5.0   \n",
       "2            12.3                4.0             3.0           4.0   \n",
       "\n",
       "   solitude_rating  camping_rating  \n",
       "0              4.0             3.0  \n",
       "1              3.0             3.0  \n",
       "2              3.0             3.0  "
      ]
     },
     "execution_count": 8,
     "metadata": {},
     "output_type": "execute_result"
    }
   ],
   "source": [
    "df2.head(3)"
   ]
  },
  {
   "cell_type": "code",
   "execution_count": null,
   "id": "3927a65c-c142-4e0c-a142-4ab0e7746c2d",
   "metadata": {},
   "outputs": [],
   "source": []
  },
  {
   "cell_type": "code",
   "execution_count": 9,
   "id": "1f85581e-8219-4e71-b127-17e3d53c7ae4",
   "metadata": {},
   "outputs": [],
   "source": [
    "matrix = df2.values #convert to numpy array"
   ]
  },
  {
   "cell_type": "code",
   "execution_count": 10,
   "id": "84373db7-dfbc-4732-96fc-8d2f1b2a6747",
   "metadata": {},
   "outputs": [
    {
     "data": {
      "text/plain": [
       "(417, 6)"
      ]
     },
     "execution_count": 10,
     "metadata": {},
     "output_type": "execute_result"
    }
   ],
   "source": [
    "matrix.shape"
   ]
  },
  {
   "cell_type": "code",
   "execution_count": 11,
   "id": "ba7933b0-bf03-4666-ad7a-619678b39c81",
   "metadata": {},
   "outputs": [
    {
     "data": {
      "text/plain": [
       "array([[11.5,  4. ,  3. ,  2. ,  4. ,  3. ],\n",
       "       [11.9,  5. ,  0. ,  5. ,  3. ,  3. ],\n",
       "       [12.3,  4. ,  3. ,  4. ,  3. ,  3. ],\n",
       "       ...,\n",
       "       [ 3.7,  1. ,  2. ,  3. ,  3. ,  0. ],\n",
       "       [ 4.2,  2. ,  3. ,  2. ,  3. ,  2. ],\n",
       "       [ 9.7,  3. ,  2. ,  3. ,  3. ,  0. ]])"
      ]
     },
     "execution_count": 11,
     "metadata": {},
     "output_type": "execute_result"
    }
   ],
   "source": [
    "matrix"
   ]
  },
  {
   "cell_type": "code",
   "execution_count": 12,
   "id": "56ed7e08-f7b5-4960-ae4d-fe04357dd140",
   "metadata": {},
   "outputs": [
    {
     "data": {
      "text/plain": [
       "array([11.5,  4. ,  3. ,  2. ,  4. ,  3. ])"
      ]
     },
     "execution_count": 12,
     "metadata": {},
     "output_type": "execute_result"
    }
   ],
   "source": [
    "matrix[0]"
   ]
  },
  {
   "cell_type": "code",
   "execution_count": null,
   "id": "7986c52b-57f6-478e-810c-088de361ebce",
   "metadata": {},
   "outputs": [],
   "source": []
  },
  {
   "cell_type": "code",
   "execution_count": 13,
   "id": "9dd5e4bf-aa24-4406-8f38-f86f32309540",
   "metadata": {},
   "outputs": [],
   "source": [
    "cosine_similarity_matrix = cosine_similarity(matrix, matrix[0].reshape(1, -1))"
   ]
  },
  {
   "cell_type": "code",
   "execution_count": 14,
   "id": "3115a700-e923-466e-96ac-652c9c73e687",
   "metadata": {},
   "outputs": [
    {
     "data": {
      "text/plain": [
       "numpy.ndarray"
      ]
     },
     "execution_count": 14,
     "metadata": {},
     "output_type": "execute_result"
    }
   ],
   "source": [
    "type(cosine_similarity_matrix)"
   ]
  },
  {
   "cell_type": "code",
   "execution_count": 15,
   "id": "dbf5582e-066d-4968-8cb5-833f0545fb04",
   "metadata": {},
   "outputs": [
    {
     "data": {
      "text/plain": [
       "(417, 1)"
      ]
     },
     "execution_count": 15,
     "metadata": {},
     "output_type": "execute_result"
    }
   ],
   "source": [
    "cosine_similarity_matrix.shape"
   ]
  },
  {
   "cell_type": "code",
   "execution_count": 16,
   "id": "5d56a276-d2af-4523-ae54-808057ec16bb",
   "metadata": {},
   "outputs": [
    {
     "data": {
      "text/plain": [
       "[[0.9999999999999999],\n",
       " [0.9507296969007913],\n",
       " [0.9875935015046807],\n",
       " [0.7691137332983269],\n",
       " [0.8747956760842222]]"
      ]
     },
     "execution_count": 16,
     "metadata": {},
     "output_type": "execute_result"
    }
   ],
   "source": [
    "cosine_similarity_matrix.tolist()[0:5]"
   ]
  },
  {
   "cell_type": "code",
   "execution_count": null,
   "id": "4a3ec2ff-6a7e-4eb6-b708-ff18264540ac",
   "metadata": {},
   "outputs": [],
   "source": []
  },
  {
   "cell_type": "code",
   "execution_count": 17,
   "id": "e32c207a-c961-4643-b0da-7dc11db13e30",
   "metadata": {},
   "outputs": [
    {
     "data": {
      "text/plain": [
       "[(0, [0.9999999999999999]),\n",
       " (1, [0.9507296969007913]),\n",
       " (2, [0.9875935015046807]),\n",
       " (3, [0.7691137332983269]),\n",
       " (4, [0.8747956760842222])]"
      ]
     },
     "execution_count": 17,
     "metadata": {},
     "output_type": "execute_result"
    }
   ],
   "source": [
    "similarity_scores = list(enumerate(cosine_similarity_matrix.tolist()))\n",
    "similarity_scores[0:5]"
   ]
  },
  {
   "cell_type": "code",
   "execution_count": 18,
   "id": "02fffc75-15f7-4df0-b106-57974ec9505b",
   "metadata": {},
   "outputs": [
    {
     "data": {
      "text/plain": [
       "[(0, [0.9999999999999999]),\n",
       " (67, [0.9999923118901033]),\n",
       " (152, [0.995180881724571]),\n",
       " (238, [0.9950654087974492]),\n",
       " (176, [0.9945319980215089])]"
      ]
     },
     "execution_count": 18,
     "metadata": {},
     "output_type": "execute_result"
    }
   ],
   "source": [
    "similarity_scores_sorted = sorted(similarity_scores, key=lambda x: x[1], reverse=True)\n",
    "similarity_scores_sorted[0:5]"
   ]
  },
  {
   "cell_type": "code",
   "execution_count": 19,
   "id": "5ba73b64-fa8e-4914-8001-e0de41710363",
   "metadata": {},
   "outputs": [
    {
     "data": {
      "text/plain": [
       "[67, 152, 238, 176, 130]"
      ]
     },
     "execution_count": 19,
     "metadata": {},
     "output_type": "execute_result"
    }
   ],
   "source": [
    "recommendations_indices = [t[0] for t in similarity_scores_sorted[1:(5+1)]] ##the reason this starts at 1 is because we don't want to include the \n",
    "recommendations_indices"
   ]
  },
  {
   "cell_type": "code",
   "execution_count": null,
   "id": "2b9d2a5c-0055-44eb-be87-70afd866595e",
   "metadata": {},
   "outputs": [],
   "source": []
  },
  {
   "cell_type": "code",
   "execution_count": null,
   "id": "1bf91fa8-da5f-4c9a-818c-97deb0d2a485",
   "metadata": {},
   "outputs": [],
   "source": []
  },
  {
   "cell_type": "markdown",
   "id": "fa6d3899-c350-4c03-9b9a-1742abe91075",
   "metadata": {},
   "source": [
    "Step1. User enters the hike URL\n",
    "\n",
    "Step2. Check if hike URL already exists in hikes_df\n",
    "\n",
    "Step2b. If it does not, scrape the data from the url \n",
    "\n",
    "Step3. Scale the new data (using the transform method)\n",
    "\n",
    "Step4. Calculate the cosine similarity between hikes_df and new_nike_data\n",
    "\n",
    "Step5. Sort the cosine similarity scores and subset to the requested number of recommendations\n",
    "\n",
    "Step6. Get the index of the recommendations and subset hikes_df \n",
    "\n",
    "Step7. Return the recommendations "
   ]
  },
  {
   "cell_type": "code",
   "execution_count": 20,
   "id": "192adca3-bb0c-4a14-8a94-71bdd6653349",
   "metadata": {},
   "outputs": [],
   "source": [
    "def index_from_url(df, url):\n",
    "    return df[df['hike_url']==title].index.values[0]\n",
    " \n",
    "# function that returns hike url from its index\n",
    "def url_from_index(df, index):\n",
    "    return df[df.index==index].hike_url.values[0]"
   ]
  },
  {
   "cell_type": "code",
   "execution_count": 21,
   "id": "2e2ab4db-e2be-4c95-8c02-dbd46a830824",
   "metadata": {},
   "outputs": [],
   "source": [
    "# generating recommendations for given url\n",
    "def get_recommendations(new_hike_url, df, number_of_recommendations):\n",
    " \n",
    "    # index = index_from_url(df, new_hike_url)\n",
    "    \n",
    "    new_data = get_one_hike(new_hike_url)\n",
    "    \n",
    "    np_array = df.values\n",
    "    \n",
    "    cosine_similarity_matrix = cosine_similarity(np_array, new_data.values.reshape(1, -1))\n",
    "\n",
    "    similarity_scores = list(enumerate(cosine_similarity_matrix[index]))\n",
    "\n",
    "    similarity_scores_sorted = sorted(similarity_scores, key=lambda x: x[1], reverse=True)\n",
    "\n",
    "    recommendations_indices = [t[0] for t in similarity_scores_sorted[1:(number_of_recommendations+1)]]\n",
    "\n",
    "    return hikes_df['hike_url'].iloc[recommendations_indices]\n",
    " "
   ]
  },
  {
   "cell_type": "code",
   "execution_count": null,
   "id": "c7b4dc69-d67e-44fd-bcc8-834111202db2",
   "metadata": {},
   "outputs": [],
   "source": []
  },
  {
   "cell_type": "code",
   "execution_count": 22,
   "id": "de123a61-58a2-4e96-9eb5-168db41dd235",
   "metadata": {},
   "outputs": [],
   "source": [
    "# recommendations('tbd', df, 10)"
   ]
  }
 ],
 "metadata": {
  "kernelspec": {
   "display_name": "Python 3 (ipykernel)",
   "language": "python",
   "name": "python3"
  },
  "language_info": {
   "codemirror_mode": {
    "name": "ipython",
    "version": 3
   },
   "file_extension": ".py",
   "mimetype": "text/x-python",
   "name": "python",
   "nbconvert_exporter": "python",
   "pygments_lexer": "ipython3",
   "version": "3.7.11"
  }
 },
 "nbformat": 4,
 "nbformat_minor": 5
}
